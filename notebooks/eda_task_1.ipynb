{
 "cells": [
  {
   "cell_type": "code",
   "execution_count": 1,
   "metadata": {},
   "outputs": [
    {
     "name": "stdout",
     "output_type": "stream",
     "text": [
      "   Unnamed: 0                                           headline  \\\n",
      "0           0            Stocks That Hit 52-Week Highs On Friday   \n",
      "1           1         Stocks That Hit 52-Week Highs On Wednesday   \n",
      "2           2                      71 Biggest Movers From Friday   \n",
      "3           3       46 Stocks Moving In Friday's Mid-Day Session   \n",
      "4           4  B of A Securities Maintains Neutral on Agilent...   \n",
      "\n",
      "                                                 url          publisher  \\\n",
      "0  https://www.benzinga.com/news/20/06/16190091/s...  Benzinga Insights   \n",
      "1  https://www.benzinga.com/news/20/06/16170189/s...  Benzinga Insights   \n",
      "2  https://www.benzinga.com/news/20/05/16103463/7...         Lisa Levin   \n",
      "3  https://www.benzinga.com/news/20/05/16095921/4...         Lisa Levin   \n",
      "4  https://www.benzinga.com/news/20/05/16095304/b...         Vick Meyer   \n",
      "\n",
      "                        date stock  \n",
      "0  2020-06-05 10:30:54-04:00     A  \n",
      "1  2020-06-03 10:45:20-04:00     A  \n",
      "2  2020-05-26 04:30:07-04:00     A  \n",
      "3  2020-05-22 12:45:06-04:00     A  \n",
      "4  2020-05-22 11:38:59-04:00     A  \n"
     ]
    }
   ],
   "source": [
    "import pandas as pd\n",
    "\n",
    "# Load the dataset\n",
    "file_path = \"../dataset/raw_analyst_ratings.csv\"\n",
    "df = pd.read_csv(file_path)\n",
    "\n",
    "# Display the first few rows\n",
    "print(df.head())\n"
   ]
  },
  {
   "cell_type": "code",
   "execution_count": 2,
   "metadata": {},
   "outputs": [
    {
     "name": "stdout",
     "output_type": "stream",
     "text": [
      "<class 'pandas.core.frame.DataFrame'>\n",
      "RangeIndex: 1407328 entries, 0 to 1407327\n",
      "Data columns (total 6 columns):\n",
      " #   Column      Non-Null Count    Dtype \n",
      "---  ------      --------------    ----- \n",
      " 0   Unnamed: 0  1407328 non-null  int64 \n",
      " 1   headline    1407328 non-null  object\n",
      " 2   url         1407328 non-null  object\n",
      " 3   publisher   1407328 non-null  object\n",
      " 4   date        1407328 non-null  object\n",
      " 5   stock       1407328 non-null  object\n",
      "dtypes: int64(1), object(5)\n",
      "memory usage: 64.4+ MB\n",
      "None\n",
      "         Unnamed: 0\n",
      "count  1.407328e+06\n",
      "mean   7.072454e+05\n",
      "std    4.081009e+05\n",
      "min    0.000000e+00\n",
      "25%    3.538128e+05\n",
      "50%    7.072395e+05\n",
      "75%    1.060710e+06\n",
      "max    1.413848e+06\n"
     ]
    }
   ],
   "source": [
    "# Basic structure of the dataset\n",
    "print(df.info())\n",
    "print(df.describe())\n"
   ]
  },
  {
   "cell_type": "code",
   "execution_count": 35,
   "metadata": {},
   "outputs": [
    {
     "name": "stdout",
     "output_type": "stream",
     "text": [
      "Unnamed: 0         0\n",
      "headline           0\n",
      "url                0\n",
      "publisher          0\n",
      "date               0\n",
      "stock              0\n",
      "headline_length    0\n",
      "dtype: int64\n",
      "Number of duplicates: 0\n"
     ]
    }
   ],
   "source": [
    "# Check for missing values\n",
    "print(df.isnull().sum())\n",
    "# Check for duplicate rows\n",
    "print(f\"Number of duplicates: {df.duplicated().sum()}\")\n"
   ]
  },
  {
   "cell_type": "code",
   "execution_count": 51,
   "metadata": {},
   "outputs": [
    {
     "name": "stdout",
     "output_type": "stream",
     "text": [
      "count    1.407328e+06\n",
      "mean     6.985079e+01\n",
      "std      3.888300e+01\n",
      "min      2.000000e+00\n",
      "25%      4.500000e+01\n",
      "50%      6.100000e+01\n",
      "75%      8.200000e+01\n",
      "max      4.980000e+02\n",
      "Name: headline_length, dtype: float64\n"
     ]
    },
    {
     "data": {
      "image/png": "[encoded data removed]",
      "text/plain": [
       "<Figure size 640x480 with 1 Axes>"
      ]
     },
     "metadata": {},
     "output_type": "display_data"
    }
   ],
   "source": [
    "# Calculate the length of each headline\n",
    "df['headline_length'] = df['headline'].apply(len)\n",
    "\n",
    "# Display basic statistics about headline lengths\n",
    "print(df['headline_length'].describe())\n",
    "\n",
    "# Visualize headline length distribution\n",
    "import matplotlib.pyplot as plt\n",
    "plt.hist(df['headline_length'], bins=30, edgecolor='k')\n",
    "plt.title(\"Headline Length Distribution\")\n",
    "plt.xlabel(\"Length\")\n",
    "plt.ylabel(\"Frequency\")\n",
    "plt.show()"
   ]
  },
  {
   "cell_type": "code",
   "execution_count": 52,
   "metadata": {},
   "outputs": [
    {
     "name": "stdout",
     "output_type": "stream",
     "text": [
      "0               Stocks That Hit 52Week Highs On Friday\n",
      "1            Stocks That Hit 52Week Highs On Wednesday\n",
      "2                        71 Biggest Movers From Friday\n",
      "3           46 Stocks Moving In Fridays MidDay Session\n",
      "4    B of A Securities Maintains Neutral on Agilent...\n",
      "Name: headline, dtype: object\n",
      "0\n"
     ]
    }
   ],
   "source": [
    "print(df['headline'].head())  # Display first few headlines\n",
    "print(df['headline'].isnull().sum())  # Check for missing values"
   ]
  },
  {
   "cell_type": "code",
   "execution_count": 53,
   "metadata": {},
   "outputs": [],
   "source": [
    "# Replace missing headlines with empty strings\n",
    "df['headline'] = df['headline'].fillna('')"
   ]
  },
  {
   "cell_type": "code",
   "execution_count": 54,
   "metadata": {},
   "outputs": [
    {
     "name": "stdout",
     "output_type": "stream",
     "text": [
      "[('to', 278252), ('of', 200276), ('Stocks', 157728), ('For', 154488), ('vs', 152260), ('on', 143840), ('Est', 132163), ('In', 130278), ('EPS', 128705), ('To', 124337)]\n"
     ]
    }
   ],
   "source": [
    "# Use simple split for tokenization\n",
    "all_tokens = ' '.join(df['headline']).split()\n",
    "word_counts = Counter(all_tokens)\n",
    "print(word_counts.most_common(10))"
   ]
  },
  {
   "cell_type": "code",
   "execution_count": 55,
   "metadata": {},
   "outputs": [
    {
     "name": "stdout",
     "output_type": "stream",
     "text": [
      "Top 10 most common words (after cleaning):\n",
      "[('to', 402875), ('of', 269807), ('on', 245071), ('for', 238895), ('in', 220556), ('the', 212758), ('vs', 162061), ('stocks', 161868), ('est', 140578), ('eps', 128910)]\n"
     ]
    }
   ],
   "source": [
    "import re\n",
    "\n",
    "# Clean text: remove punctuation and convert to lowercase\n",
    "clean_text = re.sub(r'[^\\w\\s]', '', all_words.lower())\n",
    "\n",
    "# Tokenize and count\n",
    "word_list = clean_text.split()\n",
    "word_counts = Counter(word_list)\n",
    "\n",
    "print(\"Top 10 most common words (after cleaning):\")\n",
    "print(word_counts.most_common(10))"
   ]
  },
  {
   "cell_type": "code",
   "execution_count": 56,
   "metadata": {},
   "outputs": [
    {
     "name": "stdout",
     "output_type": "stream",
     "text": [
      "Top 10 most common words:\n",
      "[('to', 278252), ('of', 200276), ('Stocks', 157728), ('For', 154488), ('vs', 152260), ('on', 143840), ('Est', 132163), ('In', 130278), ('EPS', 128705), ('To', 124337)]\n"
     ]
    }
   ],
   "source": [
    "# Combine all headlines into one string\n",
    "all_words = ' '.join(df['headline'])\n",
    "\n",
    "# Tokenize words using split\n",
    "word_list = all_words.split()\n",
    "\n",
    "# Count word frequencies\n",
    "from collections import Counter\n",
    "word_counts = Counter(word_list)\n",
    "\n",
    "# Display the most common words\n",
    "print(\"Top 10 most common words:\")\n",
    "print(word_counts.most_common(10))"
   ]
  }
 ],
 "metadata": {
  "kernelspec": {
   "display_name": ".venv",
   "language": "python",
   "name": "python3"
  },
  "language_info": {
   "codemirror_mode": {
    "name": "ipython",
    "version": 3
   },
   "file_extension": ".py",
   "mimetype": "text/x-python",
   "name": "python",
   "nbconvert_exporter": "python",
   "pygments_lexer": "ipython3",
   "version": "3.11.9"
  }
 },
 "nbformat": 4,
 "nbformat_minor": 2
}
